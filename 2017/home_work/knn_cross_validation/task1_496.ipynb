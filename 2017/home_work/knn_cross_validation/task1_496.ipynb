{
 "cells": [
  {
   "cell_type": "markdown",
   "metadata": {
    "deletable": true,
    "editable": true
   },
   "source": [
    "<span style=\"font-size: 14pt\">Домашнее задание №1 </span>\n",
    "\n",
    "<span style=\"color: red; font-size: 14pt\">Deadline: 25.02.2017 23:59:59</span>\n",
    "\n",
    "<span style=\"font-size: 10pt\">ФИВТ, АПТ, Курс по машинному обучению, Весна 2017, семинар 2, </span>\n",
    "\n",
    "<span style=\"color:blue; font-size: 10pt\">Alexey Romanenko, </span>\n",
    "<span style=\"color:blue; font-size: 10pt; font-family: 'Verdana'\">alexromsput@gmail.com</span>\n"
   ]
  },
  {
   "cell_type": "markdown",
   "metadata": {
    "deletable": true,
    "editable": true
   },
   "source": [
    "<h1 align=\"center\">Organization Info</h1> "
   ]
  },
  {
   "cell_type": "markdown",
   "metadata": {
    "deletable": true,
    "editable": true
   },
   "source": [
    "**Дополнительный материал для выполнения дз**:\n",
    "- Воронцов К. В. Математические методы обучения по прецедентам. 2012. \n",
    "- Мерков А. Б. Распознавание образов. Введение в методы статистического обучения. Едиториал УРСС. 2011. 256 стр.\n",
    "- Hastie T., Tibshirani R., Friedman J. The Elements of Statistical Learning. Springer: Data Mining, Inference, and Prediction. — 2nd ed. — Springer-Verlag. 2009. — 746 p.\n",
    "- C. M. Bishop. Pattern Recognition and Machine Learning. — Springer, Series: Information Science and Statistics. 2006. — 738 p.\n",
    "\n",
    "**Оформление дз**: \n",
    "- Присылайте выполненное задание на почту ``ml.course.mipt@gmail.com``\n",
    "- Укажите тему письма в следующем формате ``ML2017_fall <номер_группы> <фамилия>``, к примеру -- ``ML2017_fall 496 ivanov``\n",
    "- Выполненное дз сохраните в файл ``<фамилия>_<группа>_task<номер задания>.ipnb``, к примеру -- ``ML2017_496_task1.ipnb``\n",
    "\n",
    "**Вопросы**:\n",
    "- Присылайте вопросы на почту ``ml.course.mipt@gmail.com``\n",
    "- Укажите тему письма в следующем формате ``ML2016_fall Question <Содержание вопроса>``\n",
    "\n",
    "--------\n",
    "- **PS1**: Используются автоматические фильтры, и просто не найдем ваше дз, если вы не аккуратно его подпишите.\n",
    "- **PS2**: Дедлайны жесткие, так что письма пришедшие после автоматически удаляются =( чтобы соблазна не было "
   ]
  },
  {
   "cell_type": "markdown",
   "metadata": {
    "deletable": true,
    "editable": true
   },
   "source": [
    "<h1 align=\"center\">Check Questions (0.5 балла) </h1> "
   ]
  },
  {
   "cell_type": "markdown",
   "metadata": {
    "deletable": true,
    "editable": true
   },
   "source": [
    "Ответе на вопросы своими словами (загугленный материал надо пересказать), ответ обоснуйте (напишите и ОБЪЯСНИТЕ формулки если потребуется), если не выходит, то вернитесь к лекции дополнительным материалам:\n",
    "\n",
    "**Вопрос 1**: Объясните, чем отличается k-nearrest Neighbours от k-weighted nearest neighbours.\n",
    "\n",
    "<Ответ>\n",
    "\n",
    "**Вопрос 2**: Как изменяется абсолютное расстояние между объектами выборки при изменении метрики минковского с $p=1$ до $p=\\infty$?\n",
    "\n",
    "<Ответ>\n",
    "\n",
    "**Вопрос 3**: Поясните, в чем суть проклятия размерности?\n",
    "  \n",
    "<Ответ>\n",
    "\n",
    "** Вопрос 4**: Что такое метрический отступ?\n",
    "\n",
    "<Ответ>\n",
    "\n",
    "** Вопрос 5**: На какие типы можно разделить объекты обучающей выборки с точки зрения значения значения метрического отступа?\n",
    "Какие объекты стоит исключить из выборки?\n",
    "\n",
    "\n",
    "**Вопрос 6**:  Что такое функционал эмпирического риска? Приведите примеры.\n",
    "\n",
    "<Ответ>\n",
    "\n",
    "**Вопрос 7**:  В чём суть явления переобучения?\n",
    "\n",
    "<Ответ>\n",
    "\n",
    "**Вопрос 8**: Напишите формулу для complete cross-validation.\n",
    "\n",
    "<Ответ>\n",
    "\n",
    "-----------\n",
    "PS: Если проверяющий не понял ответ на большинство вопросов, то будет пичалька. Пишите так, чтобы можно было разобраться. "
   ]
  },
  {
   "cell_type": "markdown",
   "metadata": {
    "collapsed": true,
    "deletable": true,
    "editable": true
   },
   "source": [
    "<h1 align=\"center\">Задача 1 (0.5 балла) </h1> "
   ]
  },
  {
   "cell_type": "markdown",
   "metadata": {
    "deletable": true,
    "editable": true
   },
   "source": [
    "При каких значения параметра $k$ (при близких к единице или при сильно больших единицы) в алгоритме kNN можно наблюдать эффект переобучения? Поясните свой ответ, опираясь на границы классов из sklearn-knn-surfaces.ipynb.\n",
    "\n",
    "**<Решение>**"
   ]
  },
  {
   "cell_type": "markdown",
   "metadata": {
    "deletable": true,
    "editable": true
   },
   "source": [
    "<h2 align=\"center\">Реализуйте kNN (2 балла)</h2>"
   ]
  },
  {
   "cell_type": "code",
   "execution_count": 3,
   "metadata": {
    "collapsed": false,
    "deletable": true,
    "editable": true
   },
   "outputs": [],
   "source": [
    "import warnings\n",
    "import numpy as np\n",
    "\n",
    "warnings.simplefilter(\"ignore\")\n",
    "\n",
    "\n",
    "class kNNClassifier():\n",
    "    def __init__(self, n_estimators, metric):\n",
    "        \"\"\"\n",
    "        Parameters\n",
    "        ----------\n",
    "        n_neighbours: int\n",
    "            Число соседей\n",
    "\n",
    "        metric: *alias\n",
    "            метрика измерения расстояний\n",
    "\n",
    "          \"\"\"\n",
    "        self.n_neighbours = base_estimator\n",
    "        self.metric = metric\n",
    "        \n",
    "    def fit(self, X, y):\n",
    "        \"\"\"\n",
    "        \n",
    "        Parameters\n",
    "        ----------\n",
    "        X: 2d np.array\n",
    "        y: 1d np.array\n",
    "        \"\"\"\n",
    "\n",
    "        # Тут храните здесь описание объектов обучающей выборки\n",
    "        self.X_learn = ...\n",
    "\n",
    "        # Тут храните здесь ответы по каждому объекту обучающей выборки\n",
    "        self.y_learn = ...\n",
    "\n",
    "        \n",
    "        return self\n",
    "\n",
    "    def predict(self, X):\n",
    "        \"\"\"\n",
    "\n",
    "        Parameters\n",
    "        ----------\n",
    "        X: 2d np.array матрица объекты признаки на которых нужно сказать ответ\n",
    "\n",
    "        Returns\n",
    "        -------\n",
    "        y_pred: 1d np.array, Вектор классов для каждого объекта\n",
    "        \"\"\"\n",
    "        \n",
    "        dist = [] # Храните тут расстояния до каждого элемента обучающей выборки \n",
    "        \n",
    "        for i in range(self.X_learn):\n",
    "            # =======================================\n",
    "            # рассчитайте расстояние до каждого объекта обучающей выборки\n",
    "            # ======================================\n",
    "            ...\n",
    "\n",
    "        # =======================================\n",
    "        # предскажите класс каждого из объектов\n",
    "        # =======================================\n",
    "        y_pred = ...\n",
    "        \n",
    "        return y_pred"
   ]
  },
  {
   "cell_type": "code",
   "execution_count": null,
   "metadata": {
    "collapsed": true,
    "deletable": true,
    "editable": true
   },
   "outputs": [],
   "source": [
    "# Запустите ваш алгоритм на данных Digit_recognizer\n",
    "\n",
    "train = pd.read_csv('../data/digit_recognizer/train.csv')\n",
    "\n",
    "indices = list(range(train.shape[0]))\n",
    "shuffle(indices)\n",
    "\n",
    "subtrain, subtest = train.ix[indices[:5000]], train.ix[indices[5000:10000]]\n",
    "\n",
    "X_train, X_test= np.asarray(subtrain[list(range(1, train.shape[1]))]), np.asarray(subtest[list(range(1, train.shape[1]))])\n",
    "Y_train, Y_test = np.asarray(subtrain[[0]]).ravel(), np.asarray(subtest[[0]]).ravel()"
   ]
  },
  {
   "cell_type": "code",
   "execution_count": null,
   "metadata": {
    "collapsed": true,
    "deletable": true,
    "editable": true
   },
   "outputs": [],
   "source": [
    "from sklearn.metrics import accuracy_score\n",
    "# =======================================\n",
    "# Обучите классификатор при k=3, 5, и 10\n",
    "# =======================================\n",
    "clf = ...\n",
    "print accuracy_score(clf.predict(X_train), y_train), accuracy_score(clf.predict(X_test), y_test)"
   ]
  },
  {
   "cell_type": "markdown",
   "metadata": {
    "deletable": true,
    "editable": true
   },
   "source": [
    "<h1 align=\"center\">Кросс-валидация (2 балла) </h1>"
   ]
  },
  {
   "cell_type": "markdown",
   "metadata": {
    "deletable": true,
    "editable": true
   },
   "source": [
    "<h2 align=\"left\">Зависимость значения CV от размера тестовой выборки </h2>\n",
    "\n",
    "Продемонстрируйте экспериментально, как меняется значения $CV$ в зависимости от $k$ - количество объектов в тестовой выборке, если объём всех данных меняется и равен $l+k$ (т.е. количество объектов в обучающей выборке НЕ меняется).\n",
    "\n",
    "Размер обучающей выборки $l$ взять таким, чтобы можно было значения CV при $k=10\\cdot l$.\n",
    "Демонстрацию провести на данных из соревнования <a href=\"http://www.kaggle.com/c/digit-recognizer\">Digit Recognizer</a> на \n",
    "Kaggle. \n",
    "\n",
    "В качестве алгоритма классификации можно взять\n",
    "<span style=\"color:black; font-size: 14pt\">sklearn.neighbors.KNeighborsClassifier(algorithm='ball\\_tree')</span>."
   ]
  },
  {
   "cell_type": "markdown",
   "metadata": {
    "collapsed": true,
    "deletable": true,
    "editable": true
   },
   "source": [
    "<h1 align=\"center\">Bonus part</h1> "
   ]
  },
  {
   "cell_type": "markdown",
   "metadata": {
    "deletable": true,
    "editable": true
   },
   "source": [
    "Это удвоит баллы за дз.\n",
    "\n",
    "- Резберитесь с расчётом Margin, приведённом в семинарском занятии. Воспроизведите раздел Off-line contest и подберите метрику, для которой линия Margin-ов была бы не меньше, чем для метрики cosine."
   ]
  }
 ],
 "metadata": {
  "anaconda-cloud": {},
  "kernelspec": {
   "display_name": "Python 2",
   "language": "python",
   "name": "python2"
  },
  "language_info": {
   "codemirror_mode": {
    "name": "ipython",
    "version": 2
   },
   "file_extension": ".py",
   "mimetype": "text/x-python",
   "name": "python",
   "nbconvert_exporter": "python",
   "pygments_lexer": "ipython2",
   "version": "2.7.12+"
  }
 },
 "nbformat": 4,
 "nbformat_minor": 0
}
