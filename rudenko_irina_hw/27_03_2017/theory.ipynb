{
 "cells": [
  {
   "cell_type": "markdown",
   "metadata": {},
   "source": [
    "2.1 Bias-variance-noise decomposition\n",
    "\n",
    "Доказать, что: $E_{x,y} \\cdot E_{X^l}(y - a_{X^l}(x))^2 = E_{x,y}(y - E(y|x))^2 + E_{x,y}\\cdot (E(y|x) - E_{X^l} a_{X^l}(x))^2 + E_{x,y}\\cdot E_{X^l}\\cdot(a_{X^l}(x) - E_{X^l} a_{X^l}(x))^2$\n",
    "\n",
    "Где $E_{x,y}(y - E(y|x))^2$ - шум\n",
    "\n",
    "$E_{x,y}\\cdot (E(y|x) - E_{X^l} a_{X^l}(x))^2 $ - смещение\n",
    "\n",
    "$E_{x,y}\\cdot E_{X^l}\\cdot(a_{X^l}(x) - E_{X^l} a_{X^l}(x))^2$ - разброс"
   ]
  },
  {
   "cell_type": "markdown",
   "metadata": {},
   "source": []
  }
 ],
 "metadata": {
  "kernelspec": {
   "display_name": "Python 2",
   "language": "python",
   "name": "python2"
  },
  "language_info": {
   "codemirror_mode": {
    "name": "ipython",
    "version": 2
   },
   "file_extension": ".py",
   "mimetype": "text/x-python",
   "name": "python",
   "nbconvert_exporter": "python",
   "pygments_lexer": "ipython2",
   "version": "2.7.12+"
  }
 },
 "nbformat": 4,
 "nbformat_minor": 2
}
