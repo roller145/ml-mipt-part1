{
 "cells": [
  {
   "cell_type": "code",
   "execution_count": 310,
   "metadata": {
    "collapsed": true,
    "deletable": true,
    "editable": true
   },
   "outputs": [],
   "source": [
    "import pandas as pd\n",
    "import sklearn\n",
    "import re\n",
    "import numpy as np\n",
    "import pymorphy2\n",
    "import pymorphy2_dicts_ru\n",
    "from sklearn.linear_model import LogisticRegression\n",
    "from sklearn.metrics import roc_auc_score\n",
    "from sklearn.model_selection import cross_val_score"
   ]
  },
  {
   "cell_type": "code",
   "execution_count": 311,
   "metadata": {
    "collapsed": true,
    "deletable": true,
    "editable": true
   },
   "outputs": [],
   "source": [
    "train = pd.read_csv(\"linear_train.txt\", header = None)\n",
    "train.columns = ['word', 'ans']\n"
   ]
  },
  {
   "cell_type": "code",
   "execution_count": 312,
   "metadata": {
    "collapsed": false,
    "deletable": true,
    "editable": true
   },
   "outputs": [],
   "source": [
    "test = pd.read_csv(\"linear_test.txt\", header = None)\n",
    "test.columns = ['word']\n"
   ]
  },
  {
   "cell_type": "code",
   "execution_count": 313,
   "metadata": {
    "collapsed": false,
    "deletable": true,
    "editable": true
   },
   "outputs": [],
   "source": [
    "def is_upper_case(row):\n",
    "    word = str(row['word'])\n",
    "    if word[0] == word[0].upper():\n",
    "        return 1.\n",
    "    else:\n",
    "        return 0.\n",
    "\n",
    "\n",
    "ends = set(['ко', 'ук', 'юк', 'ун', 'ний', 'ный', 'чай', 'ий', 'ин', 'ишин', 'джи', 'оглу', 'джи', 'оглу',\n",
    "        'уа', 'ипа', 'заде', 'ли', 'лы', 'оглу', 'кызы', 'ян', 'янц', 'уни', 'ич', 'ук', 'ик', 'ски', \n",
    "        'ев', 'ов', 'огло', 'пулос', 'кос', 'иди', 'швили', 'дзе', 'ури', 'иа', 'уа', 'ава', 'ли', 'си', 'ни', \n",
    "        'ини', 'ис', 'ску', 'ан', 'ын', 'шкин', 'кин', 'ин', 'ман', 'ер', 'ски', 'цки',\n",
    "        'дзки', 'ев', 'ов', 'ских', 'ску', 'ан', 'овая', 'ичу', 'ича', 'ен', 'ес', 'еса', 'вским', \n",
    "            'вскому', 'цевой', 'цевая'])\n",
    "\n",
    "def is_ends(row):\n",
    "    for end in ends:\n",
    "        if re.match('\\w+' + end +'$', row['word'].lower()):\n",
    "            return 1.     \n",
    "    return 0.\n",
    "\n"
   ]
  },
  {
   "cell_type": "code",
   "execution_count": 314,
   "metadata": {
    "collapsed": false,
    "deletable": true,
    "editable": true
   },
   "outputs": [],
   "source": [
    "morph = pymorphy2.MorphAnalyzer()\n",
    "\n",
    "def is_nown(row):\n",
    "    morths = morph.parse(row['word'])\n",
    "    prob = 0\n",
    "    l = len(morths)\n",
    "    for m in morths:\n",
    "        tag = m.tag\n",
    "        if 'NOUN' in tag:\n",
    "            if l == 1:\n",
    "                return 1\n",
    "            else:\n",
    "                prob += m.score\n",
    "    return prob\n",
    "\n",
    "def is_surname(row):\n",
    "    morths = morph.parse(row['word'])\n",
    "    prob = 0\n",
    "    l = len(morths)\n",
    "    for m in morths:\n",
    "        tag = m.tag\n",
    "        if 'Surn' in tag:\n",
    "            if l == 1:\n",
    "                return 1\n",
    "            else:\n",
    "                prob += m.score\n",
    "    return prob\n"
   ]
  },
  {
   "cell_type": "code",
   "execution_count": 315,
   "metadata": {
    "collapsed": false,
    "deletable": true,
    "editable": true
   },
   "outputs": [],
   "source": [
    "train['is_upper'] = train.apply(is_upper_case, axis=1)\n",
    "test['is_upper'] = test.apply(is_upper_case, axis=1)"
   ]
  },
  {
   "cell_type": "code",
   "execution_count": 316,
   "metadata": {
    "collapsed": false,
    "deletable": true,
    "editable": true
   },
   "outputs": [],
   "source": [
    "lower = train.loc[train['is_upper'] == 0]\n",
    "l = list(lower['word'])\n",
    "lower_set = set(map(lambda x: x.lower(),l))\n",
    "\n",
    "\n",
    "def check_in_lower(row):\n",
    "    if row['word'] in lower_set:\n",
    "        return 1\n",
    "    else:\n",
    "        return 0\n",
    "\n",
    "\n",
    "train['in_lower'] = train.apply(check_in_lower, axis=1)\n",
    "test['in_lower'] = test.apply(check_in_lower, axis=1)\n"
   ]
  },
  {
   "cell_type": "code",
   "execution_count": 317,
   "metadata": {
    "collapsed": false,
    "deletable": true,
    "editable": true
   },
   "outputs": [],
   "source": [
    "train['is_ends'] = train.apply(is_ends, axis=1)\n",
    "test['is_ends'] = test.apply(is_ends, axis=1)\n"
   ]
  },
  {
   "cell_type": "code",
   "execution_count": 318,
   "metadata": {
    "collapsed": false,
    "deletable": true,
    "editable": true
   },
   "outputs": [],
   "source": [
    "train['is_sur'] = train.apply(is_surname, axis=1)\n",
    "test['is_sur'] = test.apply(is_surname, axis=1)\n"
   ]
  },
  {
   "cell_type": "code",
   "execution_count": 319,
   "metadata": {
    "collapsed": true
   },
   "outputs": [],
   "source": [
    "train['is_nown'] = train.apply(is_nown, axis=1)\n",
    "test['is_nown'] = test.apply(is_nown, axis=1)\n"
   ]
  },
  {
   "cell_type": "code",
   "execution_count": 320,
   "metadata": {
    "collapsed": false
   },
   "outputs": [],
   "source": [
    "roc_auc = sklearn.metrics.make_scorer(roc_auc_score)"
   ]
  },
  {
   "cell_type": "code",
   "execution_count": 287,
   "metadata": {
    "collapsed": false
   },
   "outputs": [
    {
     "name": "stdout",
     "output_type": "stream",
     "text": [
      "LogisticRegression(C=0.70000000000000007, class_weight=None, dual=False,\n",
      "          fit_intercept=True, intercept_scaling=1, max_iter=100,\n",
      "          multi_class='ovr', n_jobs=1, penalty='l1', random_state=None,\n",
      "          solver='liblinear', tol=0.0001, verbose=0, warm_start=False) 0.547593037371\n"
     ]
    }
   ],
   "source": [
    "from sklearn.model_selection import GridSearchCV\n",
    "\n",
    "parameters = {\"penalty\": ('l1',), 'C': np.arange(0.1, 1., 0.1) }\n",
    "algo =  LogisticRegression()\n",
    "regress = GridSearchCV(algo, parameters, scoring=roc_auc, n_jobs=-1)\n",
    "regress.fit(train_X, train_Y)\n",
    "print(regress.best_estimator_, regress.best_score_)\n",
    "\n"
   ]
  },
  {
   "cell_type": "code",
   "execution_count": 289,
   "metadata": {
    "collapsed": false
   },
   "outputs": [
    {
     "name": "stdout",
     "output_type": "stream",
     "text": [
      "LogisticRegression(C=0.10000000000000001, class_weight=None, dual=False,\n",
      "          fit_intercept=True, intercept_scaling=1, max_iter=100,\n",
      "          multi_class='ovr', n_jobs=1, penalty='l2', random_state=None,\n",
      "          solver='newton-cg', tol=0.0001, verbose=0, warm_start=False) 0.5\n"
     ]
    }
   ],
   "source": [
    "\n",
    "parameters = {\"penalty\": ('l2',), 'solver' : ['newton-cg', 'lbfgs', 'liblinear', 'sag'], 'C': np.arange(0.1, 2., 0.5) }\n",
    "algo =  LogisticRegression()\n",
    "regress = GridSearchCV(algo, parameters, scoring=roc_auc, n_jobs=-1)\n",
    "regress.fit(train_X, train_Y)\n",
    "print(regress.best_estimator_, regress.best_score_)\n",
    "\n"
   ]
  },
  {
   "cell_type": "markdown",
   "metadata": {},
   "source": [
    "С is_ends и in_lower было  0.635027557937"
   ]
  },
  {
   "cell_type": "code",
   "execution_count": 321,
   "metadata": {
    "collapsed": false
   },
   "outputs": [],
   "source": [
    "def length(row):\n",
    "    return float(len(row['word']))\n",
    "\n",
    "train['length'] = train.apply(length, axis=1)\n",
    "test['length'] = test.apply(length, axis=1)\n"
   ]
  },
  {
   "cell_type": "markdown",
   "metadata": {},
   "source": [
    "всё: 0.640223596808\n",
    "без in_lower: 0.640312091945\n",
    "без is_upper, in_lower: 0.629210228865\n",
    "без is_sur,in_lower: 0.510390010954\n",
    "без is_nown, in_lower: 0.629019440574\n",
    "без is_ends, in_lower: 0.638600209341\n"
   ]
  },
  {
   "cell_type": "code",
   "execution_count": 322,
   "metadata": {
    "collapsed": false
   },
   "outputs": [],
   "source": [
    "endings = list([dict(), dict(), dict(), dict(), dict()])\n",
    "correct_ending = list([dict(), dict(), dict(), dict(), dict()])\n",
    "\n",
    "def count_ending(row):\n",
    "    st = row['word']\n",
    "    label = row['ans']\n",
    "    for i in range(1, min(5, len(st))):\n",
    "        if st[-i:] not in endings[i].keys():\n",
    "            endings[i][st[-i:]] = 0\n",
    "        endings[i][st[-i:]] += 1\n",
    "        if label == 1:\n",
    "            if st[-i:] not in correct_ending[i].keys():\n",
    "                correct_ending[i][st[-i:]] = 0\n",
    "            correct_ending[i][st[-i:]] += 1\n",
    "            \n",
    "\n",
    "for i in train.index:\n",
    "    count_ending(train.loc[i])"
   ]
  },
  {
   "cell_type": "code",
   "execution_count": 323,
   "metadata": {
    "collapsed": false
   },
   "outputs": [],
   "source": [
    "def end_prob(row, i):\n",
    "    st = row['word']\n",
    "    if len(st) > i:\n",
    "        if (st[-i:]) in correct_ending[i].keys():\n",
    "            if (endings[i][st[-i:]] > 0):\n",
    "                return float(correct_ending[i][st[-i:]])/ endings[i][st[-i:]]\n",
    "    return 0\n",
    "        \n",
    "for i in range(1, 5):\n",
    "    train['end_'+str(i)] = train.apply(lambda x: end_prob(x, i), axis=1)\n",
    "    test['end_' + str(i)] = test.apply(lambda x: end_prob(x, i), axis=1)\n"
   ]
  },
  {
   "cell_type": "code",
   "execution_count": 324,
   "metadata": {
    "collapsed": false
   },
   "outputs": [],
   "source": [
    "amount = len(train.loc[train['ans']==1])\n",
    "def prob(row , i):\n",
    "    st = row['word']\n",
    "    if len(st) > i:\n",
    "        if (st[-i:]) in correct_ending[i].keys():\n",
    "            if (endings[i][st[-i:]] > 0):\n",
    "                return float(correct_ending[i][st[-i:]])/amount\n",
    "    return 0\n",
    "        \n",
    "for i in range(1, 5):\n",
    "    train['prob_'+str(i)] = train.apply(lambda x: prob(x, i), axis=1)\n",
    "    test['prob_' + str(i)] = test.apply(lambda x: prob(x, i), axis=1)\n"
   ]
  },
  {
   "cell_type": "code",
   "execution_count": 325,
   "metadata": {
    "collapsed": false
   },
   "outputs": [
    {
     "name": "stdout",
     "output_type": "stream",
     "text": [
      "LogisticRegression(C=0.10000000000000001, class_weight='balanced', dual=False,\n",
      "          fit_intercept=True, intercept_scaling=1, max_iter=100,\n",
      "          multi_class='ovr', n_jobs=1, penalty='l1', random_state=None,\n",
      "          solver='liblinear', tol=0.0001, verbose=0, warm_start=False) 0.873676946358\n"
     ]
    }
   ],
   "source": [
    "train_X = train.drop('word', axis=1)\n",
    "train_X = train_X.drop('ans', axis=1)\n",
    "# train_X = train_X.drop('in_lower', axis=1)\n",
    "# train_X = train_X.drop('is_ends', axis=1)\n",
    "\n",
    "train_Y = train['ans']\n",
    "\n",
    "parameters = {\"penalty\": ('l1',), 'C': np.arange(0.1, 1., 0.1), 'class_weight':('balanced',) }\n",
    "algo =  LogisticRegression()\n",
    "regress = GridSearchCV(algo, parameters, scoring=roc_auc, n_jobs=-1)\n",
    "regress.fit(train_X, train_Y)\n",
    "print(regress.best_estimator_, regress.best_score_)\n"
   ]
  },
  {
   "cell_type": "code",
   "execution_count": 329,
   "metadata": {
    "collapsed": false
   },
   "outputs": [
    {
     "name": "stdout",
     "output_type": "stream",
     "text": [
      "<class 'pandas.core.frame.DataFrame'>\n",
      "RangeIndex: 101408 entries, 0 to 101407\n",
      "Data columns (total 14 columns):\n",
      "is_upper    101408 non-null float64\n",
      "in_lower    101408 non-null int64\n",
      "is_ends     101408 non-null float64\n",
      "is_sur      101408 non-null float64\n",
      "is_nown     101408 non-null float64\n",
      "length      101408 non-null float64\n",
      "end_1       101408 non-null float64\n",
      "end_2       101408 non-null float64\n",
      "end_3       101408 non-null float64\n",
      "end_4       101408 non-null float64\n",
      "prob_1      101408 non-null float64\n",
      "prob_2      101408 non-null float64\n",
      "prob_3      101408 non-null float64\n",
      "prob_4      101408 non-null float64\n",
      "dtypes: float64(13), int64(1)\n",
      "memory usage: 10.8 MB\n"
     ]
    }
   ],
   "source": [
    "train_X.info()"
   ]
  },
  {
   "cell_type": "code",
   "execution_count": 335,
   "metadata": {
    "collapsed": false
   },
   "outputs": [
    {
     "name": "stdout",
     "output_type": "stream",
     "text": [
      "<class 'pandas.core.frame.DataFrame'>\n",
      "RangeIndex: 188920 entries, 0 to 188919\n",
      "Data columns (total 14 columns):\n",
      "is_upper    188920 non-null float64\n",
      "in_lower    188920 non-null int64\n",
      "is_ends     188920 non-null float64\n",
      "is_sur      188920 non-null float64\n",
      "is_nown     188920 non-null float64\n",
      "length      188920 non-null float64\n",
      "end_1       188920 non-null float64\n",
      "end_2       188920 non-null float64\n",
      "end_3       188920 non-null float64\n",
      "end_4       188920 non-null float64\n",
      "prob_1      188920 non-null float64\n",
      "prob_2      188920 non-null float64\n",
      "prob_3      188920 non-null float64\n",
      "prob_4      188920 non-null float64\n",
      "dtypes: float64(13), int64(1)\n",
      "memory usage: 20.2 MB\n"
     ]
    }
   ],
   "source": [
    "test_X.info()"
   ]
  },
  {
   "cell_type": "code",
   "execution_count": 338,
   "metadata": {
    "collapsed": false
   },
   "outputs": [
    {
     "name": "stdout",
     "output_type": "stream",
     "text": [
      "0.873676946358\n"
     ]
    }
   ],
   "source": [
    "print(regress.best_score_)\n",
    "test_X = test.drop('word', axis=1)\n",
    "# test_X = test_X.drop('ans', axis=1)\n",
    "\n",
    "model = regress.best_estimator_\n",
    "preds = model.predict(test_X.values)\n",
    "test['answer'] = preds\n",
    "\n",
    "test['answer'].to_csv(\"my_submission_4.tsv\", sep=',', index=True)"
   ]
  },
  {
   "cell_type": "code",
   "execution_count": 286,
   "metadata": {
    "collapsed": false
   },
   "outputs": [
    {
     "name": "stdout",
     "output_type": "stream",
     "text": [
      "LogisticRegression(C=0.9, class_weight=None, dual=False, fit_intercept=True,\n",
      "          intercept_scaling=1, max_iter=100, multi_class='ovr', n_jobs=1,\n",
      "          penalty='l1', random_state=None, solver='liblinear', tol=0.0001,\n",
      "          verbose=0, warm_start=False) 0.54704441952\n"
     ]
    }
   ],
   "source": [
    "train_X = train.drop('word', axis=1)\n",
    "train_X = train_X.drop('ans', axis=1)\n",
    "# train_X = train_X.drop('in_lower', axis=1)\n",
    "train_Y = train['ans']\n",
    "\n",
    "parameters = {\"penalty\": ('l1',), 'C': (0.9,) }\n",
    "algo =  LogisticRegression()\n",
    "regress = GridSearchCV(algo, parameters, scoring=roc_auc, n_jobs=-1)\n",
    "regress.fit(train_X, train_Y)\n",
    "print(regress.best_estimator_, regress.best_score_)\n"
   ]
  },
  {
   "cell_type": "markdown",
   "metadata": {},
   "source": [
    "всё:0.77\n",
    "\n",
    "без всего, только prob: 0.54"
   ]
  },
  {
   "cell_type": "markdown",
   "metadata": {},
   "source": [
    "c end_1, end_2, end_3: 0.71682928529\n",
    "\n",
    "без end_1: 0.716729782985\n",
    "\n",
    "без end_3: 0.664866548441\n"
   ]
  },
  {
   "cell_type": "code",
   "execution_count": 294,
   "metadata": {
    "collapsed": true
   },
   "outputs": [],
   "source": [
    "from sklearn.svm import SVC, LinearSVC\n"
   ]
  },
  {
   "cell_type": "code",
   "execution_count": 296,
   "metadata": {
    "collapsed": false
   },
   "outputs": [
    {
     "name": "stdout",
     "output_type": "stream",
     "text": [
      "LinearSVC(C=1.1000000000000001, class_weight=None, dual=True,\n",
      "     fit_intercept=True, intercept_scaling=1, loss='hinge', max_iter=1000,\n",
      "     multi_class='ovr', penalty='l2', random_state=None, tol=0.0001,\n",
      "     verbose=0) 0.751338867848\n"
     ]
    }
   ],
   "source": [
    "train_X = train.drop('word', axis=1)\n",
    "train_X = train_X.drop('ans', axis=1)\n",
    "# train_X = train_X.drop('in_lower', axis=1)\n",
    "\n",
    "train_Y = train['ans']\n",
    "\n",
    "parameters = {\"penalty\": ('l2',), 'loss' : ['hinge', 'squared_hinge'], 'C': np.arange(0.1, 2., 0.5) }\n",
    "algo =  LinearSVC()\n",
    "regress = GridSearchCV(algo, parameters, scoring=roc_auc, n_jobs=-1)\n",
    "regress.fit(train_X, train_Y)\n",
    "print(regress.best_estimator_, regress.best_score_)\n"
   ]
  },
  {
   "cell_type": "code",
   "execution_count": 298,
   "metadata": {
    "collapsed": false
   },
   "outputs": [
    {
     "name": "stdout",
     "output_type": "stream",
     "text": [
      "LinearSVC(C=1.2000000000000002, class_weight=None, dual=True,\n",
      "     fit_intercept=True, intercept_scaling=1, loss='hinge', max_iter=1000,\n",
      "     multi_class='ovr', penalty='l2', random_state=None, tol=0.0001,\n",
      "     verbose=0) 0.752788212323\n"
     ]
    }
   ],
   "source": [
    "train_X = train.drop('word', axis=1)\n",
    "train_X = train_X.drop('ans', axis=1)\n",
    "# train_X = train_X.drop('in_lower', axis=1)\n",
    "\n",
    "train_Y = train['ans']\n",
    "\n",
    "parameters = {\"penalty\": ('l2',), 'loss' : ['hinge', 'squared_hinge'], 'C': np.arange(0.1, 2., 0.1) }\n",
    "algo =  LinearSVC()\n",
    "regress = GridSearchCV(algo, parameters, scoring=roc_auc, n_jobs=-1)\n",
    "regress.fit(train_X, train_Y)\n",
    "print(regress.best_estimator_, regress.best_score_)\n"
   ]
  },
  {
   "cell_type": "code",
   "execution_count": 299,
   "metadata": {
    "collapsed": false
   },
   "outputs": [
    {
     "name": "stdout",
     "output_type": "stream",
     "text": [
      "SVC(C=1.6000000000000001, cache_size=200, class_weight=None, coef0=0.0,\n",
      "  decision_function_shape=None, degree=3, gamma='auto', kernel='rbf',\n",
      "  max_iter=-1, probability=False, random_state=None, shrinking=True,\n",
      "  tol=0.001, verbose=False) 0.765199108514\n"
     ]
    }
   ],
   "source": [
    "train_X = train.drop('word', axis=1)\n",
    "train_X = train_X.drop('ans', axis=1)\n",
    "# train_X = train_X.drop('in_lower', axis=1)\n",
    "\n",
    "train_Y = train['ans']\n",
    "\n",
    "parameters = { 'C': np.arange(0.1, 2., 0.5)}\n",
    "algo =  SVC()\n",
    "regress = GridSearchCV(algo, parameters, scoring=roc_auc, n_jobs=-1)\n",
    "regress.fit(train_X, train_Y)\n",
    "print(regress.best_estimator_, regress.best_score_)\n"
   ]
  },
  {
   "cell_type": "code",
   "execution_count": 305,
   "metadata": {
    "collapsed": false
   },
   "outputs": [],
   "source": [
    "test_X = test.drop('word', axis=1)\n",
    "test_X = test_X.drop('ans', axis=1)\n",
    "\n",
    "test_X = test_X.drop('is_ends', axis=1)\n",
    "test_X = test_X.drop('in_lower', axis=1)\n",
    "test_X = test_X.drop('is_sur', axis=1)\n",
    "test_X = test_X.drop('is_nown', axis=1)\n",
    "\n",
    "model = regress.best_estimator_\n",
    "preds = model.predict(test_X.values)\n",
    "test_X['ans'] = preds\n",
    "\n",
    "test['ans'].to_csv(\"my_submission_3.tsv\", sep=',', index=True)"
   ]
  }
 ],
 "metadata": {
  "kernelspec": {
   "display_name": "Python 3",
   "language": "python",
   "name": "python3"
  },
  "language_info": {
   "codemirror_mode": {
    "name": "ipython",
    "version": 3
   },
   "file_extension": ".py",
   "mimetype": "text/x-python",
   "name": "python",
   "nbconvert_exporter": "python",
   "pygments_lexer": "ipython3",
   "version": "3.5.2+"
  }
 },
 "nbformat": 4,
 "nbformat_minor": 2
}
